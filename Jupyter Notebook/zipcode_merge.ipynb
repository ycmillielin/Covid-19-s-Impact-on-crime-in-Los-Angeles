{
 "cells": [
  {
   "cell_type": "markdown",
   "id": "82852de0",
   "metadata": {
    "toc": true
   },
   "source": [
    "<h1>Table of Contents<span class=\"tocSkip\"></span></h1>\n",
    "<div class=\"toc\"><ul class=\"toc-item\"></ul></div>"
   ]
  },
  {
   "cell_type": "code",
   "execution_count": 3,
   "id": "541c5697",
   "metadata": {},
   "outputs": [
    {
     "name": "stdout",
     "output_type": "stream",
     "text": [
      "Files opened and merging\n",
      "Saving CSV File\n",
      "Saving Pickle File\n",
      "Dataframe is saved into to disk successfully in CSV and Pickle files\n"
     ]
    }
   ],
   "source": [
    "import pandas as pd\n",
    "import numpy as np\n",
    "import pickle\n",
    "\n",
    "# reading cleaned data and creating coords column\n",
    "#df = pd.read_csv(\"dataset.csv\", dtype = {\"TIME OCC\": str, \"AREA\": str})\n",
    "file = open(\"df.sav\",'rb')\n",
    "df = pickle.load(file)\n",
    "file.close()\n",
    "df['coords'] = df.apply(lambda x:str(round(x['LAT'],2)) + \",\" + str(round(x['LON'],2)),axis = 1)\n",
    "\n",
    "# reading zipcode files and merging coords to get zipcode column\n",
    "df_zips = pd.read_csv('Coords_w_Zipcodes.csv')\n",
    "print('Files opened and merging')\n",
    "df = df.merge(df_zips,on = 'coords',how = 'left')\n",
    "\n",
    "# dropping coords column and saving\n",
    "df = df.drop('coords',axis = 1)\n",
    "print('Saving CSV File')\n",
    "df.to_csv('dataset_w_Zipcode.csv',header = True, index = False)\n",
    "print('Saving Pickle File')\n",
    "object_filename = \"dataset_w_Zipcode.sav\"\n",
    "saved_object = pickle.dump(df, open(object_filename,'wb'))\n",
    "print('Dataframe is saved into to disk successfully in CSV and Pickle files')"
   ]
  },
  {
   "cell_type": "code",
   "execution_count": null,
   "id": "479a1e62",
   "metadata": {},
   "outputs": [],
   "source": []
  }
 ],
 "metadata": {
  "kernelspec": {
   "display_name": "Python 3",
   "language": "python",
   "name": "python3"
  },
  "language_info": {
   "codemirror_mode": {
    "name": "ipython",
    "version": 3
   },
   "file_extension": ".py",
   "mimetype": "text/x-python",
   "name": "python",
   "nbconvert_exporter": "python",
   "pygments_lexer": "ipython3",
   "version": "3.8.8"
  },
  "toc": {
   "base_numbering": 1,
   "nav_menu": {},
   "number_sections": true,
   "sideBar": true,
   "skip_h1_title": false,
   "title_cell": "Table of Contents",
   "title_sidebar": "Contents",
   "toc_cell": true,
   "toc_position": {},
   "toc_section_display": true,
   "toc_window_display": false
  }
 },
 "nbformat": 4,
 "nbformat_minor": 5
}
