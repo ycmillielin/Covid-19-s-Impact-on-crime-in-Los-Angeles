{
 "cells": [
  {
   "cell_type": "markdown",
   "id": "d7b6d246",
   "metadata": {
    "toc": true
   },
   "source": [
    "<h1>Table of Contents<span class=\"tocSkip\"></span></h1>\n",
    "<div class=\"toc\"><ul class=\"toc-item\"><li><span><a href=\"#read-data-for-regression\" data-toc-modified-id=\"read-data-for-regression-1\"><span class=\"toc-item-num\">1&nbsp;&nbsp;</span>read data for regression</a></span></li><li><span><a href=\"#Add-Area-dummies\" data-toc-modified-id=\"Add-Area-dummies-2\"><span class=\"toc-item-num\">2&nbsp;&nbsp;</span>Add Area dummies</a></span></li><li><span><a href=\"#Add-Covid-dummy\" data-toc-modified-id=\"Add-Covid-dummy-3\"><span class=\"toc-item-num\">3&nbsp;&nbsp;</span>Add Covid dummy</a></span></li><li><span><a href=\"#Regression-String\" data-toc-modified-id=\"Regression-String-4\"><span class=\"toc-item-num\">4&nbsp;&nbsp;</span>Regression String</a></span></li><li><span><a href=\"#Running-Regression\" data-toc-modified-id=\"Running-Regression-5\"><span class=\"toc-item-num\">5&nbsp;&nbsp;</span>Running Regression</a></span></li><li><span><a href=\"#Hypothesis\" data-toc-modified-id=\"Hypothesis-6\"><span class=\"toc-item-num\">6&nbsp;&nbsp;</span>Hypothesis</a></span></li></ul></div>"
   ]
  },
  {
   "cell_type": "code",
   "execution_count": 1,
   "id": "8e65c36a",
   "metadata": {},
   "outputs": [],
   "source": [
    "import pandas as pd\n",
    "import numpy as np"
   ]
  },
  {
   "cell_type": "markdown",
   "id": "08da6c1f",
   "metadata": {},
   "source": [
    "# read data for regression"
   ]
  },
  {
   "cell_type": "code",
   "execution_count": 2,
   "id": "ef1295bd",
   "metadata": {},
   "outputs": [
    {
     "data": {
      "text/html": [
       "<div>\n",
       "<style scoped>\n",
       "    .dataframe tbody tr th:only-of-type {\n",
       "        vertical-align: middle;\n",
       "    }\n",
       "\n",
       "    .dataframe tbody tr th {\n",
       "        vertical-align: top;\n",
       "    }\n",
       "\n",
       "    .dataframe thead th {\n",
       "        text-align: right;\n",
       "    }\n",
       "</style>\n",
       "<table border=\"1\" class=\"dataframe\">\n",
       "  <thead>\n",
       "    <tr style=\"text-align: right;\">\n",
       "      <th></th>\n",
       "      <th>AREA_NAME</th>\n",
       "      <th>Year</th>\n",
       "      <th>Population</th>\n",
       "      <th>Unemployment_rate</th>\n",
       "      <th>Median_household_income</th>\n",
       "      <th>Crimes_per_month</th>\n",
       "    </tr>\n",
       "  </thead>\n",
       "  <tbody>\n",
       "    <tr>\n",
       "      <th>0</th>\n",
       "      <td>77th Street</td>\n",
       "      <td>2010</td>\n",
       "      <td>620172.0</td>\n",
       "      <td>15.829451</td>\n",
       "      <td>34679.964508</td>\n",
       "      <td>1203.333333</td>\n",
       "    </tr>\n",
       "    <tr>\n",
       "      <th>1</th>\n",
       "      <td>77th Street</td>\n",
       "      <td>2011</td>\n",
       "      <td>532941.0</td>\n",
       "      <td>12.154545</td>\n",
       "      <td>42531.909091</td>\n",
       "      <td>1187.333333</td>\n",
       "    </tr>\n",
       "    <tr>\n",
       "      <th>2</th>\n",
       "      <td>77th Street</td>\n",
       "      <td>2012</td>\n",
       "      <td>532445.0</td>\n",
       "      <td>12.490909</td>\n",
       "      <td>42105.818182</td>\n",
       "      <td>1186.916667</td>\n",
       "    </tr>\n",
       "    <tr>\n",
       "      <th>3</th>\n",
       "      <td>77th Street</td>\n",
       "      <td>2013</td>\n",
       "      <td>536127.0</td>\n",
       "      <td>13.745455</td>\n",
       "      <td>41582.090909</td>\n",
       "      <td>1145.083333</td>\n",
       "    </tr>\n",
       "    <tr>\n",
       "      <th>4</th>\n",
       "      <td>77th Street</td>\n",
       "      <td>2014</td>\n",
       "      <td>539384.0</td>\n",
       "      <td>13.481818</td>\n",
       "      <td>40561.181818</td>\n",
       "      <td>1170.833333</td>\n",
       "    </tr>\n",
       "  </tbody>\n",
       "</table>\n",
       "</div>"
      ],
      "text/plain": [
       "     AREA_NAME  Year  Population  Unemployment_rate  Median_household_income  \\\n",
       "0  77th Street  2010    620172.0          15.829451             34679.964508   \n",
       "1  77th Street  2011    532941.0          12.154545             42531.909091   \n",
       "2  77th Street  2012    532445.0          12.490909             42105.818182   \n",
       "3  77th Street  2013    536127.0          13.745455             41582.090909   \n",
       "4  77th Street  2014    539384.0          13.481818             40561.181818   \n",
       "\n",
       "   Crimes_per_month  \n",
       "0       1203.333333  \n",
       "1       1187.333333  \n",
       "2       1186.916667  \n",
       "3       1145.083333  \n",
       "4       1170.833333  "
      ]
     },
     "execution_count": 2,
     "metadata": {},
     "output_type": "execute_result"
    }
   ],
   "source": [
    "reg = pd.read_csv('regression_new.csv')\n",
    "reg.head()"
   ]
  },
  {
   "cell_type": "code",
   "execution_count": 3,
   "id": "cd4a2120",
   "metadata": {},
   "outputs": [
    {
     "data": {
      "text/html": [
       "<div>\n",
       "<style scoped>\n",
       "    .dataframe tbody tr th:only-of-type {\n",
       "        vertical-align: middle;\n",
       "    }\n",
       "\n",
       "    .dataframe tbody tr th {\n",
       "        vertical-align: top;\n",
       "    }\n",
       "\n",
       "    .dataframe thead th {\n",
       "        text-align: right;\n",
       "    }\n",
       "</style>\n",
       "<table border=\"1\" class=\"dataframe\">\n",
       "  <thead>\n",
       "    <tr style=\"text-align: right;\">\n",
       "      <th></th>\n",
       "      <th>AREA_NAME</th>\n",
       "      <th>Year</th>\n",
       "      <th>Population</th>\n",
       "      <th>Unemployment_rate</th>\n",
       "      <th>Median_household_income</th>\n",
       "      <th>Crimes_per_month</th>\n",
       "      <th>ln_Population</th>\n",
       "      <th>ln_Unemployment_rate</th>\n",
       "      <th>ln_Median_household_income</th>\n",
       "      <th>ln_Crimes_per_month</th>\n",
       "    </tr>\n",
       "  </thead>\n",
       "  <tbody>\n",
       "    <tr>\n",
       "      <th>0</th>\n",
       "      <td>77th Street</td>\n",
       "      <td>2010</td>\n",
       "      <td>620172.0</td>\n",
       "      <td>15.829451</td>\n",
       "      <td>34679.964508</td>\n",
       "      <td>1203.333333</td>\n",
       "      <td>13.337752</td>\n",
       "      <td>2.761872</td>\n",
       "      <td>10.453917</td>\n",
       "      <td>7.092851</td>\n",
       "    </tr>\n",
       "    <tr>\n",
       "      <th>1</th>\n",
       "      <td>77th Street</td>\n",
       "      <td>2011</td>\n",
       "      <td>532941.0</td>\n",
       "      <td>12.154545</td>\n",
       "      <td>42531.909091</td>\n",
       "      <td>1187.333333</td>\n",
       "      <td>13.186166</td>\n",
       "      <td>2.497703</td>\n",
       "      <td>10.658010</td>\n",
       "      <td>7.079465</td>\n",
       "    </tr>\n",
       "    <tr>\n",
       "      <th>2</th>\n",
       "      <td>77th Street</td>\n",
       "      <td>2012</td>\n",
       "      <td>532445.0</td>\n",
       "      <td>12.490909</td>\n",
       "      <td>42105.818182</td>\n",
       "      <td>1186.916667</td>\n",
       "      <td>13.185235</td>\n",
       "      <td>2.525001</td>\n",
       "      <td>10.647941</td>\n",
       "      <td>7.079114</td>\n",
       "    </tr>\n",
       "    <tr>\n",
       "      <th>3</th>\n",
       "      <td>77th Street</td>\n",
       "      <td>2013</td>\n",
       "      <td>536127.0</td>\n",
       "      <td>13.745455</td>\n",
       "      <td>41582.090909</td>\n",
       "      <td>1145.083333</td>\n",
       "      <td>13.192126</td>\n",
       "      <td>2.620708</td>\n",
       "      <td>10.635425</td>\n",
       "      <td>7.043233</td>\n",
       "    </tr>\n",
       "    <tr>\n",
       "      <th>4</th>\n",
       "      <td>77th Street</td>\n",
       "      <td>2014</td>\n",
       "      <td>539384.0</td>\n",
       "      <td>13.481818</td>\n",
       "      <td>40561.181818</td>\n",
       "      <td>1170.833333</td>\n",
       "      <td>13.198183</td>\n",
       "      <td>2.601342</td>\n",
       "      <td>10.610567</td>\n",
       "      <td>7.065471</td>\n",
       "    </tr>\n",
       "  </tbody>\n",
       "</table>\n",
       "</div>"
      ],
      "text/plain": [
       "     AREA_NAME  Year  Population  Unemployment_rate  Median_household_income  \\\n",
       "0  77th Street  2010    620172.0          15.829451             34679.964508   \n",
       "1  77th Street  2011    532941.0          12.154545             42531.909091   \n",
       "2  77th Street  2012    532445.0          12.490909             42105.818182   \n",
       "3  77th Street  2013    536127.0          13.745455             41582.090909   \n",
       "4  77th Street  2014    539384.0          13.481818             40561.181818   \n",
       "\n",
       "   Crimes_per_month  ln_Population  ln_Unemployment_rate  \\\n",
       "0       1203.333333      13.337752              2.761872   \n",
       "1       1187.333333      13.186166              2.497703   \n",
       "2       1186.916667      13.185235              2.525001   \n",
       "3       1145.083333      13.192126              2.620708   \n",
       "4       1170.833333      13.198183              2.601342   \n",
       "\n",
       "   ln_Median_household_income  ln_Crimes_per_month  \n",
       "0                   10.453917             7.092851  \n",
       "1                   10.658010             7.079465  \n",
       "2                   10.647941             7.079114  \n",
       "3                   10.635425             7.043233  \n",
       "4                   10.610567             7.065471  "
      ]
     },
     "execution_count": 3,
     "metadata": {},
     "output_type": "execute_result"
    }
   ],
   "source": [
    "# log-log\n",
    "reg['ln_Population'] = np.log(reg['Population'])\n",
    "reg['ln_Unemployment_rate'] = np.log(reg['Unemployment_rate'])\n",
    "reg['ln_Median_household_income'] = np.log(reg['Median_household_income'])\n",
    "reg['ln_Crimes_per_month'] = np.log(reg['Crimes_per_month'])\n",
    "reg.head()"
   ]
  },
  {
   "cell_type": "code",
   "execution_count": 4,
   "id": "931a601f",
   "metadata": {},
   "outputs": [
    {
     "data": {
      "text/plain": [
       "array(['77th Street', 'Central', 'Devonshire', 'Foothill', 'Harbor',\n",
       "       'Hollenbeck', 'Hollywood', 'Mission', 'N Hollywood', 'Newton',\n",
       "       'Northeast', 'Olympic', 'Pacific', 'Rampart', 'Southeast',\n",
       "       'Southwest', 'Topanga', 'Van Nuys', 'West LA', 'West Valley',\n",
       "       'Wilshire'], dtype=object)"
      ]
     },
     "execution_count": 4,
     "metadata": {},
     "output_type": "execute_result"
    }
   ],
   "source": [
    "reg['AREA_NAME'].unique()"
   ]
  },
  {
   "cell_type": "markdown",
   "id": "8d8533d6",
   "metadata": {},
   "source": [
    "# Add Area dummies"
   ]
  },
  {
   "cell_type": "code",
   "execution_count": 5,
   "id": "f32a7a4d",
   "metadata": {},
   "outputs": [
    {
     "data": {
      "text/html": [
       "<div>\n",
       "<style scoped>\n",
       "    .dataframe tbody tr th:only-of-type {\n",
       "        vertical-align: middle;\n",
       "    }\n",
       "\n",
       "    .dataframe tbody tr th {\n",
       "        vertical-align: top;\n",
       "    }\n",
       "\n",
       "    .dataframe thead th {\n",
       "        text-align: right;\n",
       "    }\n",
       "</style>\n",
       "<table border=\"1\" class=\"dataframe\">\n",
       "  <thead>\n",
       "    <tr style=\"text-align: right;\">\n",
       "      <th></th>\n",
       "      <th>AREA_NAME</th>\n",
       "      <th>Year</th>\n",
       "      <th>Population</th>\n",
       "      <th>Unemployment_rate</th>\n",
       "      <th>Median_household_income</th>\n",
       "      <th>Crimes_per_month</th>\n",
       "      <th>ln_Population</th>\n",
       "      <th>ln_Unemployment_rate</th>\n",
       "      <th>ln_Median_household_income</th>\n",
       "      <th>ln_Crimes_per_month</th>\n",
       "      <th>...</th>\n",
       "      <th>Olympic</th>\n",
       "      <th>Pacific</th>\n",
       "      <th>Rampart</th>\n",
       "      <th>Southeast</th>\n",
       "      <th>Southwest</th>\n",
       "      <th>Topanga</th>\n",
       "      <th>Van Nuys</th>\n",
       "      <th>West LA</th>\n",
       "      <th>West Valley</th>\n",
       "      <th>Wilshire</th>\n",
       "    </tr>\n",
       "  </thead>\n",
       "  <tbody>\n",
       "    <tr>\n",
       "      <th>0</th>\n",
       "      <td>77th Street</td>\n",
       "      <td>2010</td>\n",
       "      <td>620172.0</td>\n",
       "      <td>15.829451</td>\n",
       "      <td>34679.964508</td>\n",
       "      <td>1203.333333</td>\n",
       "      <td>13.337752</td>\n",
       "      <td>2.761872</td>\n",
       "      <td>10.453917</td>\n",
       "      <td>7.092851</td>\n",
       "      <td>...</td>\n",
       "      <td>0</td>\n",
       "      <td>0</td>\n",
       "      <td>0</td>\n",
       "      <td>0</td>\n",
       "      <td>0</td>\n",
       "      <td>0</td>\n",
       "      <td>0</td>\n",
       "      <td>0</td>\n",
       "      <td>0</td>\n",
       "      <td>0</td>\n",
       "    </tr>\n",
       "    <tr>\n",
       "      <th>1</th>\n",
       "      <td>77th Street</td>\n",
       "      <td>2011</td>\n",
       "      <td>532941.0</td>\n",
       "      <td>12.154545</td>\n",
       "      <td>42531.909091</td>\n",
       "      <td>1187.333333</td>\n",
       "      <td>13.186166</td>\n",
       "      <td>2.497703</td>\n",
       "      <td>10.658010</td>\n",
       "      <td>7.079465</td>\n",
       "      <td>...</td>\n",
       "      <td>0</td>\n",
       "      <td>0</td>\n",
       "      <td>0</td>\n",
       "      <td>0</td>\n",
       "      <td>0</td>\n",
       "      <td>0</td>\n",
       "      <td>0</td>\n",
       "      <td>0</td>\n",
       "      <td>0</td>\n",
       "      <td>0</td>\n",
       "    </tr>\n",
       "    <tr>\n",
       "      <th>2</th>\n",
       "      <td>77th Street</td>\n",
       "      <td>2012</td>\n",
       "      <td>532445.0</td>\n",
       "      <td>12.490909</td>\n",
       "      <td>42105.818182</td>\n",
       "      <td>1186.916667</td>\n",
       "      <td>13.185235</td>\n",
       "      <td>2.525001</td>\n",
       "      <td>10.647941</td>\n",
       "      <td>7.079114</td>\n",
       "      <td>...</td>\n",
       "      <td>0</td>\n",
       "      <td>0</td>\n",
       "      <td>0</td>\n",
       "      <td>0</td>\n",
       "      <td>0</td>\n",
       "      <td>0</td>\n",
       "      <td>0</td>\n",
       "      <td>0</td>\n",
       "      <td>0</td>\n",
       "      <td>0</td>\n",
       "    </tr>\n",
       "    <tr>\n",
       "      <th>3</th>\n",
       "      <td>77th Street</td>\n",
       "      <td>2013</td>\n",
       "      <td>536127.0</td>\n",
       "      <td>13.745455</td>\n",
       "      <td>41582.090909</td>\n",
       "      <td>1145.083333</td>\n",
       "      <td>13.192126</td>\n",
       "      <td>2.620708</td>\n",
       "      <td>10.635425</td>\n",
       "      <td>7.043233</td>\n",
       "      <td>...</td>\n",
       "      <td>0</td>\n",
       "      <td>0</td>\n",
       "      <td>0</td>\n",
       "      <td>0</td>\n",
       "      <td>0</td>\n",
       "      <td>0</td>\n",
       "      <td>0</td>\n",
       "      <td>0</td>\n",
       "      <td>0</td>\n",
       "      <td>0</td>\n",
       "    </tr>\n",
       "    <tr>\n",
       "      <th>4</th>\n",
       "      <td>77th Street</td>\n",
       "      <td>2014</td>\n",
       "      <td>539384.0</td>\n",
       "      <td>13.481818</td>\n",
       "      <td>40561.181818</td>\n",
       "      <td>1170.833333</td>\n",
       "      <td>13.198183</td>\n",
       "      <td>2.601342</td>\n",
       "      <td>10.610567</td>\n",
       "      <td>7.065471</td>\n",
       "      <td>...</td>\n",
       "      <td>0</td>\n",
       "      <td>0</td>\n",
       "      <td>0</td>\n",
       "      <td>0</td>\n",
       "      <td>0</td>\n",
       "      <td>0</td>\n",
       "      <td>0</td>\n",
       "      <td>0</td>\n",
       "      <td>0</td>\n",
       "      <td>0</td>\n",
       "    </tr>\n",
       "  </tbody>\n",
       "</table>\n",
       "<p>5 rows × 30 columns</p>\n",
       "</div>"
      ],
      "text/plain": [
       "     AREA_NAME  Year  Population  Unemployment_rate  Median_household_income  \\\n",
       "0  77th Street  2010    620172.0          15.829451             34679.964508   \n",
       "1  77th Street  2011    532941.0          12.154545             42531.909091   \n",
       "2  77th Street  2012    532445.0          12.490909             42105.818182   \n",
       "3  77th Street  2013    536127.0          13.745455             41582.090909   \n",
       "4  77th Street  2014    539384.0          13.481818             40561.181818   \n",
       "\n",
       "   Crimes_per_month  ln_Population  ln_Unemployment_rate  \\\n",
       "0       1203.333333      13.337752              2.761872   \n",
       "1       1187.333333      13.186166              2.497703   \n",
       "2       1186.916667      13.185235              2.525001   \n",
       "3       1145.083333      13.192126              2.620708   \n",
       "4       1170.833333      13.198183              2.601342   \n",
       "\n",
       "   ln_Median_household_income  ln_Crimes_per_month  ...  Olympic  Pacific  \\\n",
       "0                   10.453917             7.092851  ...        0        0   \n",
       "1                   10.658010             7.079465  ...        0        0   \n",
       "2                   10.647941             7.079114  ...        0        0   \n",
       "3                   10.635425             7.043233  ...        0        0   \n",
       "4                   10.610567             7.065471  ...        0        0   \n",
       "\n",
       "   Rampart  Southeast  Southwest  Topanga  Van Nuys  West LA  West Valley  \\\n",
       "0        0          0          0        0         0        0            0   \n",
       "1        0          0          0        0         0        0            0   \n",
       "2        0          0          0        0         0        0            0   \n",
       "3        0          0          0        0         0        0            0   \n",
       "4        0          0          0        0         0        0            0   \n",
       "\n",
       "   Wilshire  \n",
       "0         0  \n",
       "1         0  \n",
       "2         0  \n",
       "3         0  \n",
       "4         0  \n",
       "\n",
       "[5 rows x 30 columns]"
      ]
     },
     "execution_count": 5,
     "metadata": {},
     "output_type": "execute_result"
    }
   ],
   "source": [
    "for i in reg['AREA_NAME'].unique():\n",
    "    reg[i] = [1 if j == i else 0 for j in reg['AREA_NAME']]\n",
    "reg = reg.drop(columns=['77th Street'])\n",
    "reg.head()"
   ]
  },
  {
   "cell_type": "code",
   "execution_count": 6,
   "id": "839bc415",
   "metadata": {},
   "outputs": [
    {
     "data": {
      "text/html": [
       "<div>\n",
       "<style scoped>\n",
       "    .dataframe tbody tr th:only-of-type {\n",
       "        vertical-align: middle;\n",
       "    }\n",
       "\n",
       "    .dataframe tbody tr th {\n",
       "        vertical-align: top;\n",
       "    }\n",
       "\n",
       "    .dataframe thead th {\n",
       "        text-align: right;\n",
       "    }\n",
       "</style>\n",
       "<table border=\"1\" class=\"dataframe\">\n",
       "  <thead>\n",
       "    <tr style=\"text-align: right;\">\n",
       "      <th></th>\n",
       "      <th>AREA_NAME</th>\n",
       "      <th>Year</th>\n",
       "      <th>Population</th>\n",
       "      <th>Unemployment_rate</th>\n",
       "      <th>Median_household_income</th>\n",
       "      <th>Crimes_per_month</th>\n",
       "      <th>ln_Population</th>\n",
       "      <th>ln_Unemployment_rate</th>\n",
       "      <th>ln_Median_household_income</th>\n",
       "      <th>ln_Crimes_per_month</th>\n",
       "      <th>...</th>\n",
       "      <th>Olympic</th>\n",
       "      <th>Pacific</th>\n",
       "      <th>Rampart</th>\n",
       "      <th>Southeast</th>\n",
       "      <th>Southwest</th>\n",
       "      <th>Topanga</th>\n",
       "      <th>Van_Nuys</th>\n",
       "      <th>West_LA</th>\n",
       "      <th>West_Valley</th>\n",
       "      <th>Wilshire</th>\n",
       "    </tr>\n",
       "  </thead>\n",
       "  <tbody>\n",
       "    <tr>\n",
       "      <th>0</th>\n",
       "      <td>77th Street</td>\n",
       "      <td>2010</td>\n",
       "      <td>620172.0</td>\n",
       "      <td>15.829451</td>\n",
       "      <td>34679.964508</td>\n",
       "      <td>1203.333333</td>\n",
       "      <td>13.337752</td>\n",
       "      <td>2.761872</td>\n",
       "      <td>10.453917</td>\n",
       "      <td>7.092851</td>\n",
       "      <td>...</td>\n",
       "      <td>0</td>\n",
       "      <td>0</td>\n",
       "      <td>0</td>\n",
       "      <td>0</td>\n",
       "      <td>0</td>\n",
       "      <td>0</td>\n",
       "      <td>0</td>\n",
       "      <td>0</td>\n",
       "      <td>0</td>\n",
       "      <td>0</td>\n",
       "    </tr>\n",
       "    <tr>\n",
       "      <th>1</th>\n",
       "      <td>77th Street</td>\n",
       "      <td>2011</td>\n",
       "      <td>532941.0</td>\n",
       "      <td>12.154545</td>\n",
       "      <td>42531.909091</td>\n",
       "      <td>1187.333333</td>\n",
       "      <td>13.186166</td>\n",
       "      <td>2.497703</td>\n",
       "      <td>10.658010</td>\n",
       "      <td>7.079465</td>\n",
       "      <td>...</td>\n",
       "      <td>0</td>\n",
       "      <td>0</td>\n",
       "      <td>0</td>\n",
       "      <td>0</td>\n",
       "      <td>0</td>\n",
       "      <td>0</td>\n",
       "      <td>0</td>\n",
       "      <td>0</td>\n",
       "      <td>0</td>\n",
       "      <td>0</td>\n",
       "    </tr>\n",
       "    <tr>\n",
       "      <th>2</th>\n",
       "      <td>77th Street</td>\n",
       "      <td>2012</td>\n",
       "      <td>532445.0</td>\n",
       "      <td>12.490909</td>\n",
       "      <td>42105.818182</td>\n",
       "      <td>1186.916667</td>\n",
       "      <td>13.185235</td>\n",
       "      <td>2.525001</td>\n",
       "      <td>10.647941</td>\n",
       "      <td>7.079114</td>\n",
       "      <td>...</td>\n",
       "      <td>0</td>\n",
       "      <td>0</td>\n",
       "      <td>0</td>\n",
       "      <td>0</td>\n",
       "      <td>0</td>\n",
       "      <td>0</td>\n",
       "      <td>0</td>\n",
       "      <td>0</td>\n",
       "      <td>0</td>\n",
       "      <td>0</td>\n",
       "    </tr>\n",
       "    <tr>\n",
       "      <th>3</th>\n",
       "      <td>77th Street</td>\n",
       "      <td>2013</td>\n",
       "      <td>536127.0</td>\n",
       "      <td>13.745455</td>\n",
       "      <td>41582.090909</td>\n",
       "      <td>1145.083333</td>\n",
       "      <td>13.192126</td>\n",
       "      <td>2.620708</td>\n",
       "      <td>10.635425</td>\n",
       "      <td>7.043233</td>\n",
       "      <td>...</td>\n",
       "      <td>0</td>\n",
       "      <td>0</td>\n",
       "      <td>0</td>\n",
       "      <td>0</td>\n",
       "      <td>0</td>\n",
       "      <td>0</td>\n",
       "      <td>0</td>\n",
       "      <td>0</td>\n",
       "      <td>0</td>\n",
       "      <td>0</td>\n",
       "    </tr>\n",
       "    <tr>\n",
       "      <th>4</th>\n",
       "      <td>77th Street</td>\n",
       "      <td>2014</td>\n",
       "      <td>539384.0</td>\n",
       "      <td>13.481818</td>\n",
       "      <td>40561.181818</td>\n",
       "      <td>1170.833333</td>\n",
       "      <td>13.198183</td>\n",
       "      <td>2.601342</td>\n",
       "      <td>10.610567</td>\n",
       "      <td>7.065471</td>\n",
       "      <td>...</td>\n",
       "      <td>0</td>\n",
       "      <td>0</td>\n",
       "      <td>0</td>\n",
       "      <td>0</td>\n",
       "      <td>0</td>\n",
       "      <td>0</td>\n",
       "      <td>0</td>\n",
       "      <td>0</td>\n",
       "      <td>0</td>\n",
       "      <td>0</td>\n",
       "    </tr>\n",
       "  </tbody>\n",
       "</table>\n",
       "<p>5 rows × 30 columns</p>\n",
       "</div>"
      ],
      "text/plain": [
       "     AREA_NAME  Year  Population  Unemployment_rate  Median_household_income  \\\n",
       "0  77th Street  2010    620172.0          15.829451             34679.964508   \n",
       "1  77th Street  2011    532941.0          12.154545             42531.909091   \n",
       "2  77th Street  2012    532445.0          12.490909             42105.818182   \n",
       "3  77th Street  2013    536127.0          13.745455             41582.090909   \n",
       "4  77th Street  2014    539384.0          13.481818             40561.181818   \n",
       "\n",
       "   Crimes_per_month  ln_Population  ln_Unemployment_rate  \\\n",
       "0       1203.333333      13.337752              2.761872   \n",
       "1       1187.333333      13.186166              2.497703   \n",
       "2       1186.916667      13.185235              2.525001   \n",
       "3       1145.083333      13.192126              2.620708   \n",
       "4       1170.833333      13.198183              2.601342   \n",
       "\n",
       "   ln_Median_household_income  ln_Crimes_per_month  ...  Olympic  Pacific  \\\n",
       "0                   10.453917             7.092851  ...        0        0   \n",
       "1                   10.658010             7.079465  ...        0        0   \n",
       "2                   10.647941             7.079114  ...        0        0   \n",
       "3                   10.635425             7.043233  ...        0        0   \n",
       "4                   10.610567             7.065471  ...        0        0   \n",
       "\n",
       "   Rampart  Southeast  Southwest  Topanga  Van_Nuys  West_LA  West_Valley  \\\n",
       "0        0          0          0        0         0        0            0   \n",
       "1        0          0          0        0         0        0            0   \n",
       "2        0          0          0        0         0        0            0   \n",
       "3        0          0          0        0         0        0            0   \n",
       "4        0          0          0        0         0        0            0   \n",
       "\n",
       "   Wilshire  \n",
       "0         0  \n",
       "1         0  \n",
       "2         0  \n",
       "3         0  \n",
       "4         0  \n",
       "\n",
       "[5 rows x 30 columns]"
      ]
     },
     "execution_count": 6,
     "metadata": {},
     "output_type": "execute_result"
    }
   ],
   "source": [
    "reg = reg.rename(columns = {'N Hollywood': 'N_Hollywood', 'Van Nuys': 'Van_Nuys', 'West Valley': 'West_Valley', 'West LA': 'West_LA'})\n",
    "reg.head()"
   ]
  },
  {
   "cell_type": "markdown",
   "id": "c44fad74",
   "metadata": {},
   "source": [
    "# Add Covid dummy"
   ]
  },
  {
   "cell_type": "code",
   "execution_count": 7,
   "id": "09c561cd",
   "metadata": {},
   "outputs": [
    {
     "data": {
      "text/html": [
       "<div>\n",
       "<style scoped>\n",
       "    .dataframe tbody tr th:only-of-type {\n",
       "        vertical-align: middle;\n",
       "    }\n",
       "\n",
       "    .dataframe tbody tr th {\n",
       "        vertical-align: top;\n",
       "    }\n",
       "\n",
       "    .dataframe thead th {\n",
       "        text-align: right;\n",
       "    }\n",
       "</style>\n",
       "<table border=\"1\" class=\"dataframe\">\n",
       "  <thead>\n",
       "    <tr style=\"text-align: right;\">\n",
       "      <th></th>\n",
       "      <th>AREA_NAME</th>\n",
       "      <th>Year</th>\n",
       "      <th>Population</th>\n",
       "      <th>Unemployment_rate</th>\n",
       "      <th>Median_household_income</th>\n",
       "      <th>Crimes_per_month</th>\n",
       "      <th>ln_Population</th>\n",
       "      <th>ln_Unemployment_rate</th>\n",
       "      <th>ln_Median_household_income</th>\n",
       "      <th>ln_Crimes_per_month</th>\n",
       "      <th>...</th>\n",
       "      <th>Pacific</th>\n",
       "      <th>Rampart</th>\n",
       "      <th>Southeast</th>\n",
       "      <th>Southwest</th>\n",
       "      <th>Topanga</th>\n",
       "      <th>Van_Nuys</th>\n",
       "      <th>West_LA</th>\n",
       "      <th>West_Valley</th>\n",
       "      <th>Wilshire</th>\n",
       "      <th>Covid</th>\n",
       "    </tr>\n",
       "  </thead>\n",
       "  <tbody>\n",
       "    <tr>\n",
       "      <th>0</th>\n",
       "      <td>77th Street</td>\n",
       "      <td>2010</td>\n",
       "      <td>620172.0</td>\n",
       "      <td>15.829451</td>\n",
       "      <td>34679.964508</td>\n",
       "      <td>1203.333333</td>\n",
       "      <td>13.337752</td>\n",
       "      <td>2.761872</td>\n",
       "      <td>10.453917</td>\n",
       "      <td>7.092851</td>\n",
       "      <td>...</td>\n",
       "      <td>0</td>\n",
       "      <td>0</td>\n",
       "      <td>0</td>\n",
       "      <td>0</td>\n",
       "      <td>0</td>\n",
       "      <td>0</td>\n",
       "      <td>0</td>\n",
       "      <td>0</td>\n",
       "      <td>0</td>\n",
       "      <td>0</td>\n",
       "    </tr>\n",
       "    <tr>\n",
       "      <th>1</th>\n",
       "      <td>77th Street</td>\n",
       "      <td>2011</td>\n",
       "      <td>532941.0</td>\n",
       "      <td>12.154545</td>\n",
       "      <td>42531.909091</td>\n",
       "      <td>1187.333333</td>\n",
       "      <td>13.186166</td>\n",
       "      <td>2.497703</td>\n",
       "      <td>10.658010</td>\n",
       "      <td>7.079465</td>\n",
       "      <td>...</td>\n",
       "      <td>0</td>\n",
       "      <td>0</td>\n",
       "      <td>0</td>\n",
       "      <td>0</td>\n",
       "      <td>0</td>\n",
       "      <td>0</td>\n",
       "      <td>0</td>\n",
       "      <td>0</td>\n",
       "      <td>0</td>\n",
       "      <td>0</td>\n",
       "    </tr>\n",
       "    <tr>\n",
       "      <th>2</th>\n",
       "      <td>77th Street</td>\n",
       "      <td>2012</td>\n",
       "      <td>532445.0</td>\n",
       "      <td>12.490909</td>\n",
       "      <td>42105.818182</td>\n",
       "      <td>1186.916667</td>\n",
       "      <td>13.185235</td>\n",
       "      <td>2.525001</td>\n",
       "      <td>10.647941</td>\n",
       "      <td>7.079114</td>\n",
       "      <td>...</td>\n",
       "      <td>0</td>\n",
       "      <td>0</td>\n",
       "      <td>0</td>\n",
       "      <td>0</td>\n",
       "      <td>0</td>\n",
       "      <td>0</td>\n",
       "      <td>0</td>\n",
       "      <td>0</td>\n",
       "      <td>0</td>\n",
       "      <td>0</td>\n",
       "    </tr>\n",
       "    <tr>\n",
       "      <th>3</th>\n",
       "      <td>77th Street</td>\n",
       "      <td>2013</td>\n",
       "      <td>536127.0</td>\n",
       "      <td>13.745455</td>\n",
       "      <td>41582.090909</td>\n",
       "      <td>1145.083333</td>\n",
       "      <td>13.192126</td>\n",
       "      <td>2.620708</td>\n",
       "      <td>10.635425</td>\n",
       "      <td>7.043233</td>\n",
       "      <td>...</td>\n",
       "      <td>0</td>\n",
       "      <td>0</td>\n",
       "      <td>0</td>\n",
       "      <td>0</td>\n",
       "      <td>0</td>\n",
       "      <td>0</td>\n",
       "      <td>0</td>\n",
       "      <td>0</td>\n",
       "      <td>0</td>\n",
       "      <td>0</td>\n",
       "    </tr>\n",
       "    <tr>\n",
       "      <th>4</th>\n",
       "      <td>77th Street</td>\n",
       "      <td>2014</td>\n",
       "      <td>539384.0</td>\n",
       "      <td>13.481818</td>\n",
       "      <td>40561.181818</td>\n",
       "      <td>1170.833333</td>\n",
       "      <td>13.198183</td>\n",
       "      <td>2.601342</td>\n",
       "      <td>10.610567</td>\n",
       "      <td>7.065471</td>\n",
       "      <td>...</td>\n",
       "      <td>0</td>\n",
       "      <td>0</td>\n",
       "      <td>0</td>\n",
       "      <td>0</td>\n",
       "      <td>0</td>\n",
       "      <td>0</td>\n",
       "      <td>0</td>\n",
       "      <td>0</td>\n",
       "      <td>0</td>\n",
       "      <td>0</td>\n",
       "    </tr>\n",
       "  </tbody>\n",
       "</table>\n",
       "<p>5 rows × 31 columns</p>\n",
       "</div>"
      ],
      "text/plain": [
       "     AREA_NAME  Year  Population  Unemployment_rate  Median_household_income  \\\n",
       "0  77th Street  2010    620172.0          15.829451             34679.964508   \n",
       "1  77th Street  2011    532941.0          12.154545             42531.909091   \n",
       "2  77th Street  2012    532445.0          12.490909             42105.818182   \n",
       "3  77th Street  2013    536127.0          13.745455             41582.090909   \n",
       "4  77th Street  2014    539384.0          13.481818             40561.181818   \n",
       "\n",
       "   Crimes_per_month  ln_Population  ln_Unemployment_rate  \\\n",
       "0       1203.333333      13.337752              2.761872   \n",
       "1       1187.333333      13.186166              2.497703   \n",
       "2       1186.916667      13.185235              2.525001   \n",
       "3       1145.083333      13.192126              2.620708   \n",
       "4       1170.833333      13.198183              2.601342   \n",
       "\n",
       "   ln_Median_household_income  ln_Crimes_per_month  ...  Pacific  Rampart  \\\n",
       "0                   10.453917             7.092851  ...        0        0   \n",
       "1                   10.658010             7.079465  ...        0        0   \n",
       "2                   10.647941             7.079114  ...        0        0   \n",
       "3                   10.635425             7.043233  ...        0        0   \n",
       "4                   10.610567             7.065471  ...        0        0   \n",
       "\n",
       "   Southeast  Southwest  Topanga  Van_Nuys  West_LA  West_Valley  Wilshire  \\\n",
       "0          0          0        0         0        0            0         0   \n",
       "1          0          0        0         0        0            0         0   \n",
       "2          0          0        0         0        0            0         0   \n",
       "3          0          0        0         0        0            0         0   \n",
       "4          0          0        0         0        0            0         0   \n",
       "\n",
       "   Covid  \n",
       "0      0  \n",
       "1      0  \n",
       "2      0  \n",
       "3      0  \n",
       "4      0  \n",
       "\n",
       "[5 rows x 31 columns]"
      ]
     },
     "execution_count": 7,
     "metadata": {},
     "output_type": "execute_result"
    }
   ],
   "source": [
    "reg['Covid'] = [1 if i > 2019 else 0 for i in reg['Year']]\n",
    "reg.head()"
   ]
  },
  {
   "cell_type": "markdown",
   "id": "fdfe41bb",
   "metadata": {},
   "source": [
    "# Regression String"
   ]
  },
  {
   "cell_type": "code",
   "execution_count": 8,
   "id": "657da41a",
   "metadata": {},
   "outputs": [
    {
     "data": {
      "text/plain": [
       "['AREA_NAME',\n",
       " 'Year',\n",
       " 'Population',\n",
       " 'Unemployment_rate',\n",
       " 'Median_household_income',\n",
       " 'Crimes_per_month',\n",
       " 'ln_Population',\n",
       " 'ln_Unemployment_rate',\n",
       " 'ln_Median_household_income',\n",
       " 'ln_Crimes_per_month',\n",
       " 'Central',\n",
       " 'Devonshire',\n",
       " 'Foothill',\n",
       " 'Harbor',\n",
       " 'Hollenbeck',\n",
       " 'Hollywood',\n",
       " 'Mission',\n",
       " 'N_Hollywood',\n",
       " 'Newton',\n",
       " 'Northeast',\n",
       " 'Olympic',\n",
       " 'Pacific',\n",
       " 'Rampart',\n",
       " 'Southeast',\n",
       " 'Southwest',\n",
       " 'Topanga',\n",
       " 'Van_Nuys',\n",
       " 'West_LA',\n",
       " 'West_Valley',\n",
       " 'Wilshire',\n",
       " 'Covid']"
      ]
     },
     "execution_count": 8,
     "metadata": {},
     "output_type": "execute_result"
    }
   ],
   "source": [
    "varlist = list(reg.columns)\n",
    "varlist"
   ]
  },
  {
   "cell_type": "code",
   "execution_count": 9,
   "id": "60df1e85",
   "metadata": {},
   "outputs": [
    {
     "data": {
      "text/plain": [
       "['ln_Population',\n",
       " 'ln_Unemployment_rate',\n",
       " 'ln_Median_household_income',\n",
       " 'Central',\n",
       " 'Devonshire',\n",
       " 'Foothill',\n",
       " 'Harbor',\n",
       " 'Hollenbeck',\n",
       " 'Hollywood',\n",
       " 'Mission',\n",
       " 'N_Hollywood',\n",
       " 'Newton',\n",
       " 'Northeast',\n",
       " 'Olympic',\n",
       " 'Pacific',\n",
       " 'Rampart',\n",
       " 'Southeast',\n",
       " 'Southwest',\n",
       " 'Topanga',\n",
       " 'Van_Nuys',\n",
       " 'West_LA',\n",
       " 'West_Valley',\n",
       " 'Wilshire']"
      ]
     },
     "execution_count": 9,
     "metadata": {},
     "output_type": "execute_result"
    }
   ],
   "source": [
    "varlist = varlist[6:]\n",
    "varlist.remove('ln_Crimes_per_month')\n",
    "varlist.remove('Covid')\n",
    "varlist"
   ]
  },
  {
   "cell_type": "code",
   "execution_count": 10,
   "id": "18adc621",
   "metadata": {},
   "outputs": [
    {
     "data": {
      "text/plain": [
       "['ln_Population',\n",
       " 'ln_Unemployment_rate',\n",
       " 'Central',\n",
       " 'Devonshire',\n",
       " 'Foothill',\n",
       " 'Harbor',\n",
       " 'Hollenbeck',\n",
       " 'Hollywood',\n",
       " 'Mission',\n",
       " 'N_Hollywood',\n",
       " 'Newton',\n",
       " 'Northeast',\n",
       " 'Olympic',\n",
       " 'Pacific',\n",
       " 'Rampart',\n",
       " 'Southeast',\n",
       " 'Southwest',\n",
       " 'Topanga',\n",
       " 'Van_Nuys',\n",
       " 'West_LA',\n",
       " 'West_Valley',\n",
       " 'Wilshire']"
      ]
     },
     "execution_count": 10,
     "metadata": {},
     "output_type": "execute_result"
    }
   ],
   "source": [
    "new_list = varlist\n",
    "new_list.remove('ln_Median_household_income')\n",
    "new_list"
   ]
  },
  {
   "cell_type": "code",
   "execution_count": 11,
   "id": "7ef69a7d",
   "metadata": {},
   "outputs": [
    {
     "data": {
      "text/plain": [
       "'Covid + ln_Population + ln_Unemployment_rate + Central + Devonshire + Foothill + Harbor + Hollenbeck + Hollywood + Mission + N_Hollywood + Newton + Northeast + Olympic + Pacific + Rampart + Southeast + Southwest + Topanga + Van_Nuys + West_LA + West_Valley + Wilshire'"
      ]
     },
     "execution_count": 11,
     "metadata": {},
     "output_type": "execute_result"
    }
   ],
   "source": [
    "new_var = ''\n",
    "for i in new_list:\n",
    "    new_var = new_var + ' + ' + i\n",
    "new_var = new_var[3::]\n",
    "new_var = 'Covid + ' + new_var\n",
    "new_var"
   ]
  },
  {
   "cell_type": "code",
   "execution_count": 12,
   "id": "ae168531",
   "metadata": {},
   "outputs": [
    {
     "data": {
      "text/plain": [
       "'Covid + ln_Population + ln_Unemployment_rate + Central + Devonshire + Foothill + Harbor + Hollenbeck + Hollywood + Mission + N_Hollywood + Newton + Northeast + Olympic + Pacific + Rampart + Southeast + Southwest + Topanga + Van_Nuys + West_LA + West_Valley + Wilshire'"
      ]
     },
     "execution_count": 12,
     "metadata": {},
     "output_type": "execute_result"
    }
   ],
   "source": [
    "var = ''\n",
    "for i in varlist:\n",
    "    var = var + ' + ' + i\n",
    "var = var[3::]\n",
    "var = 'Covid + ' + var\n",
    "var"
   ]
  },
  {
   "cell_type": "code",
   "execution_count": 13,
   "id": "451127d1",
   "metadata": {},
   "outputs": [
    {
     "data": {
      "text/plain": [
       "'ln_Crimes_per_month ~ Covid + ln_Population + ln_Unemployment_rate + Central + Devonshire + Foothill + Harbor + Hollenbeck + Hollywood + Mission + N_Hollywood + Newton + Northeast + Olympic + Pacific + Rampart + Southeast + Southwest + Topanga + Van_Nuys + West_LA + West_Valley + Wilshire'"
      ]
     },
     "execution_count": 13,
     "metadata": {},
     "output_type": "execute_result"
    }
   ],
   "source": [
    "basic = 'ln_Crimes_per_month ~ ' + var\n",
    "basic"
   ]
  },
  {
   "cell_type": "code",
   "execution_count": 14,
   "id": "b8cbc9d7",
   "metadata": {},
   "outputs": [
    {
     "data": {
      "text/plain": [
       "'ln_Crimes_per_month ~ Covid + ln_Population + ln_Unemployment_rate + Central + Devonshire + Foothill + Harbor + Hollenbeck + Hollywood + Mission + N_Hollywood + Newton + Northeast + Olympic + Pacific + Rampart + Southeast + Southwest + Topanga + Van_Nuys + West_LA + West_Valley + Wilshire'"
      ]
     },
     "execution_count": 14,
     "metadata": {},
     "output_type": "execute_result"
    }
   ],
   "source": [
    "new_basic = 'ln_Crimes_per_month ~ ' + new_var\n",
    "new_basic"
   ]
  },
  {
   "cell_type": "code",
   "execution_count": 15,
   "id": "a0834afe",
   "metadata": {},
   "outputs": [
    {
     "data": {
      "text/plain": [
       "'ln_Crimes_per_month ~ Covid + ln_Population + ln_Unemployment_rate + Central + Devonshire + Foothill + Harbor + Hollenbeck + Hollywood + Mission + N_Hollywood + Newton + Northeast + Olympic + Pacific + Rampart + Southeast + Southwest + Topanga + Van_Nuys + West_LA + West_Valley + Wilshire + ln_Unemployment_rate*Covid'"
      ]
     },
     "execution_count": 15,
     "metadata": {},
     "output_type": "execute_result"
    }
   ],
   "source": [
    "# regression with unemployment_rate*covid\n",
    "equation = 'ln_Crimes_per_month ~ ' + var + ' + ' + 'ln_Unemployment_rate*Covid'\n",
    "equation"
   ]
  },
  {
   "cell_type": "code",
   "execution_count": 16,
   "id": "e1d55239",
   "metadata": {},
   "outputs": [
    {
     "data": {
      "text/plain": [
       "'ln_Crimes_per_month ~ Covid + ln_Population + ln_Unemployment_rate + Central + Devonshire + Foothill + Harbor + Hollenbeck + Hollywood + Mission + N_Hollywood + Newton + Northeast + Olympic + Pacific + Rampart + Southeast + Southwest + Topanga + Van_Nuys + West_LA + West_Valley + Wilshire + ln_Unemployment_rate*Covid'"
      ]
     },
     "execution_count": 16,
     "metadata": {},
     "output_type": "execute_result"
    }
   ],
   "source": [
    "new_equation = 'ln_Crimes_per_month ~ ' + new_var + ' + ' + 'ln_Unemployment_rate*Covid'\n",
    "new_equation"
   ]
  },
  {
   "cell_type": "code",
   "execution_count": 17,
   "id": "556a1d87",
   "metadata": {},
   "outputs": [
    {
     "data": {
      "text/plain": [
       "'ln_Crimes_per_month ~ Covid + ln_Population + ln_Unemployment_rate + Central + Devonshire + Foothill + Harbor + Hollenbeck + Hollywood + Mission + N_Hollywood + Newton + Northeast + Olympic + Pacific + Rampart + Southeast + Southwest + Topanga + Van_Nuys + West_LA + West_Valley + Wilshire + ln_Unemployment_rate*Covid + ln_Population*Covid'"
      ]
     },
     "execution_count": 17,
     "metadata": {},
     "output_type": "execute_result"
    }
   ],
   "source": [
    "equation2 = equation + ' + ' + 'ln_Population*Covid'\n",
    "equation2"
   ]
  },
  {
   "cell_type": "code",
   "execution_count": 18,
   "id": "d99250c4",
   "metadata": {},
   "outputs": [
    {
     "data": {
      "text/plain": [
       "'ln_Crimes_per_month ~ Covid + ln_Population + ln_Unemployment_rate + Central + Devonshire + Foothill + Harbor + Hollenbeck + Hollywood + Mission + N_Hollywood + Newton + Northeast + Olympic + Pacific + Rampart + Southeast + Southwest + Topanga + Van_Nuys + West_LA + West_Valley + Wilshire + ln_Unemployment_rate*Covid + ln_Population*Covid'"
      ]
     },
     "execution_count": 18,
     "metadata": {},
     "output_type": "execute_result"
    }
   ],
   "source": [
    "new_equation2 = new_equation + ' + ' + 'ln_Population*Covid'\n",
    "new_equation2"
   ]
  },
  {
   "cell_type": "code",
   "execution_count": 19,
   "id": "d80afd1f",
   "metadata": {},
   "outputs": [
    {
     "data": {
      "text/plain": [
       "'ln_Crimes_per_month ~ Covid + ln_Population + ln_Unemployment_rate + Central + Devonshire + Foothill + Harbor + Hollenbeck + Hollywood + Mission + N_Hollywood + Newton + Northeast + Olympic + Pacific + Rampart + Southeast + Southwest + Topanga + Van_Nuys + West_LA + West_Valley + Wilshire + ln_Unemployment_rate*Covid + ln_Population*Covid + ln_Median_household_income*Covid'"
      ]
     },
     "execution_count": 19,
     "metadata": {},
     "output_type": "execute_result"
    }
   ],
   "source": [
    "equation3 = equation2 + ' + ' + 'ln_Median_household_income*Covid'\n",
    "equation3"
   ]
  },
  {
   "cell_type": "markdown",
   "id": "dbe80708",
   "metadata": {},
   "source": [
    "# Running Regression"
   ]
  },
  {
   "cell_type": "code",
   "execution_count": 20,
   "id": "32d21baa",
   "metadata": {},
   "outputs": [],
   "source": [
    "from sklearn.linear_model import LinearRegression\n",
    "import statsmodels.formula.api as sm"
   ]
  },
  {
   "cell_type": "code",
   "execution_count": 21,
   "id": "597e2add",
   "metadata": {},
   "outputs": [
    {
     "name": "stdout",
     "output_type": "stream",
     "text": [
      "                             OLS Regression Results                            \n",
      "===============================================================================\n",
      "Dep. Variable:     ln_Crimes_per_month   R-squared:                       0.776\n",
      "Model:                             OLS   Adj. R-squared:                  0.754\n",
      "Method:                  Least Squares   F-statistic:                     34.42\n",
      "Date:                 Sun, 05 Dec 2021   Prob (F-statistic):           2.79e-61\n",
      "Time:                         14:28:45   Log-Likelihood:                 268.84\n",
      "No. Observations:                  252   AIC:                            -489.7\n",
      "Df Residuals:                      228   BIC:                            -405.0\n",
      "Df Model:                           23                                         \n",
      "Covariance Type:             nonrobust                                         \n",
      "========================================================================================\n",
      "                           coef    std err          t      P>|t|      [0.025      0.975]\n",
      "----------------------------------------------------------------------------------------\n",
      "Intercept               -0.2116      2.012     -0.105      0.916      -4.175       3.752\n",
      "Covid                   -0.1092      0.025     -4.443      0.000      -0.158      -0.061\n",
      "ln_Population            0.5907      0.153      3.853      0.000       0.289       0.893\n",
      "ln_Unemployment_rate    -0.2102      0.027     -7.901      0.000      -0.263      -0.158\n",
      "Central                 -0.6359      0.068     -9.369      0.000      -0.770      -0.502\n",
      "Devonshire              -0.2060      0.076     -2.695      0.008      -0.357      -0.055\n",
      "Foothill                -0.5728      0.047    -12.062      0.000      -0.666      -0.479\n",
      "Harbor                  -0.8442      0.099     -8.504      0.000      -1.040      -0.649\n",
      "Hollenbeck              -0.6713      0.037    -18.317      0.000      -0.744      -0.599\n",
      "Hollywood                0.2416      0.169      1.427      0.155      -0.092       0.575\n",
      "Mission                 -0.2274      0.059     -3.855      0.000      -0.344      -0.111\n",
      "N_Hollywood             -0.0259      0.072     -0.361      0.719      -0.167       0.115\n",
      "Newton                   0.1803      0.151      1.194      0.234      -0.117       0.478\n",
      "Northeast               -0.4757      0.039    -12.325      0.000      -0.552      -0.400\n",
      "Olympic                 -0.3046      0.060     -5.039      0.000      -0.424      -0.185\n",
      "Pacific                 -0.4906      0.063     -7.746      0.000      -0.615      -0.366\n",
      "Rampart                  0.2625      0.196      1.341      0.181      -0.123       0.648\n",
      "Southeast               -0.1173      0.052     -2.238      0.026      -0.220      -0.014\n",
      "Southwest                0.2144      0.091      2.364      0.019       0.036       0.393\n",
      "Topanga                 -0.1229      0.101     -1.214      0.226      -0.322       0.077\n",
      "Van_Nuys                 0.2411      0.176      1.372      0.171      -0.105       0.587\n",
      "West_LA                 -0.2113      0.083     -2.540      0.012      -0.375      -0.047\n",
      "West_Valley              0.0021      0.152      0.014      0.989      -0.297       0.301\n",
      "Wilshire                 0.0643      0.164      0.391      0.696      -0.260       0.388\n",
      "==============================================================================\n",
      "Omnibus:                       16.273   Durbin-Watson:                   0.900\n",
      "Prob(Omnibus):                  0.000   Jarque-Bera (JB):               22.917\n",
      "Skew:                          -0.448   Prob(JB):                     1.06e-05\n",
      "Kurtosis:                       4.175   Cond. No.                     4.91e+03\n",
      "==============================================================================\n",
      "\n",
      "Notes:\n",
      "[1] Standard Errors assume that the covariance matrix of the errors is correctly specified.\n",
      "[2] The condition number is large, 4.91e+03. This might indicate that there are\n",
      "strong multicollinearity or other numerical problems.\n"
     ]
    }
   ],
   "source": [
    "result = sm.ols(formula=basic , \n",
    "                data=reg).fit()\n",
    "print(result.summary())"
   ]
  },
  {
   "cell_type": "code",
   "execution_count": 22,
   "id": "9fe5aeb4",
   "metadata": {},
   "outputs": [
    {
     "name": "stdout",
     "output_type": "stream",
     "text": [
      "                             OLS Regression Results                            \n",
      "===============================================================================\n",
      "Dep. Variable:     ln_Crimes_per_month   R-squared:                       0.776\n",
      "Model:                             OLS   Adj. R-squared:                  0.754\n",
      "Method:                  Least Squares   F-statistic:                     34.42\n",
      "Date:                 Sun, 05 Dec 2021   Prob (F-statistic):           2.79e-61\n",
      "Time:                         14:28:45   Log-Likelihood:                 268.84\n",
      "No. Observations:                  252   AIC:                            -489.7\n",
      "Df Residuals:                      228   BIC:                            -405.0\n",
      "Df Model:                           23                                         \n",
      "Covariance Type:             nonrobust                                         \n",
      "========================================================================================\n",
      "                           coef    std err          t      P>|t|      [0.025      0.975]\n",
      "----------------------------------------------------------------------------------------\n",
      "Intercept               -0.2116      2.012     -0.105      0.916      -4.175       3.752\n",
      "Covid                   -0.1092      0.025     -4.443      0.000      -0.158      -0.061\n",
      "ln_Population            0.5907      0.153      3.853      0.000       0.289       0.893\n",
      "ln_Unemployment_rate    -0.2102      0.027     -7.901      0.000      -0.263      -0.158\n",
      "Central                 -0.6359      0.068     -9.369      0.000      -0.770      -0.502\n",
      "Devonshire              -0.2060      0.076     -2.695      0.008      -0.357      -0.055\n",
      "Foothill                -0.5728      0.047    -12.062      0.000      -0.666      -0.479\n",
      "Harbor                  -0.8442      0.099     -8.504      0.000      -1.040      -0.649\n",
      "Hollenbeck              -0.6713      0.037    -18.317      0.000      -0.744      -0.599\n",
      "Hollywood                0.2416      0.169      1.427      0.155      -0.092       0.575\n",
      "Mission                 -0.2274      0.059     -3.855      0.000      -0.344      -0.111\n",
      "N_Hollywood             -0.0259      0.072     -0.361      0.719      -0.167       0.115\n",
      "Newton                   0.1803      0.151      1.194      0.234      -0.117       0.478\n",
      "Northeast               -0.4757      0.039    -12.325      0.000      -0.552      -0.400\n",
      "Olympic                 -0.3046      0.060     -5.039      0.000      -0.424      -0.185\n",
      "Pacific                 -0.4906      0.063     -7.746      0.000      -0.615      -0.366\n",
      "Rampart                  0.2625      0.196      1.341      0.181      -0.123       0.648\n",
      "Southeast               -0.1173      0.052     -2.238      0.026      -0.220      -0.014\n",
      "Southwest                0.2144      0.091      2.364      0.019       0.036       0.393\n",
      "Topanga                 -0.1229      0.101     -1.214      0.226      -0.322       0.077\n",
      "Van_Nuys                 0.2411      0.176      1.372      0.171      -0.105       0.587\n",
      "West_LA                 -0.2113      0.083     -2.540      0.012      -0.375      -0.047\n",
      "West_Valley              0.0021      0.152      0.014      0.989      -0.297       0.301\n",
      "Wilshire                 0.0643      0.164      0.391      0.696      -0.260       0.388\n",
      "==============================================================================\n",
      "Omnibus:                       16.273   Durbin-Watson:                   0.900\n",
      "Prob(Omnibus):                  0.000   Jarque-Bera (JB):               22.917\n",
      "Skew:                          -0.448   Prob(JB):                     1.06e-05\n",
      "Kurtosis:                       4.175   Cond. No.                     4.91e+03\n",
      "==============================================================================\n",
      "\n",
      "Notes:\n",
      "[1] Standard Errors assume that the covariance matrix of the errors is correctly specified.\n",
      "[2] The condition number is large, 4.91e+03. This might indicate that there are\n",
      "strong multicollinearity or other numerical problems.\n"
     ]
    }
   ],
   "source": [
    "# Since ln_Median_household_income is not significant -> remove this variable\n",
    "# Final model\n",
    "result = sm.ols(formula=new_basic, \n",
    "                data=reg).fit()\n",
    "print(result.summary())"
   ]
  },
  {
   "cell_type": "code",
   "execution_count": 23,
   "id": "4c7f8f67",
   "metadata": {},
   "outputs": [],
   "source": [
    "# After covid-19, the average number of monthly crime would decrease by 10.4% compared to pre-covid periods."
   ]
  },
  {
   "cell_type": "markdown",
   "id": "770c2d69",
   "metadata": {},
   "source": [
    "# Hypothesis"
   ]
  },
  {
   "cell_type": "markdown",
   "id": "9fcbd546",
   "metadata": {},
   "source": [
    "- Purpose: To check whether the proportion of Asians victims (Chinese, Korean, Japanese, Filipino, Vietnamese, Cambodian, Laotian, Other Asian, Asian Indian) among all victims increases after covid-19 in LA.\n",
    "\n",
    "- H0: The average proportion of Asian victims among all victims before covid-19 (mu0) is the same as the average proportion after covid-19 (mu1). mu0 - mu1 = 0\n",
    "- Ha: The average proportion of Asian victims among all victims after covid-19 (mu1) is larger than the average proportion before covid-19 (mu0). mu0 - mu1 < 0\n"
   ]
  },
  {
   "cell_type": "code",
   "execution_count": 24,
   "id": "044b6e71",
   "metadata": {},
   "outputs": [],
   "source": [
    "before = np.array([2.8192, 2.7887, 2.8524, 2.9758, 3.0803, 3.0925, 3.0668,  3.2898, 3.4234])\n",
    "after = np.array([3.2194, 3.5459])"
   ]
  },
  {
   "cell_type": "code",
   "execution_count": 25,
   "id": "82730c9d",
   "metadata": {},
   "outputs": [
    {
     "data": {
      "text/plain": [
       "0.13356317643901755"
      ]
     },
     "execution_count": 25,
     "metadata": {},
     "output_type": "execute_result"
    }
   ],
   "source": [
    "se = np.sqrt(before.std()*before.std()/9 + after.std()*after.std()/2)\n",
    "se"
   ]
  },
  {
   "cell_type": "code",
   "execution_count": 26,
   "id": "072ba543",
   "metadata": {},
   "outputs": [
    {
     "data": {
      "text/plain": [
       "-2.5414107236650705"
      ]
     },
     "execution_count": 26,
     "metadata": {},
     "output_type": "execute_result"
    }
   ],
   "source": [
    "t = (before.mean() - after.mean()) / se\n",
    "t"
   ]
  },
  {
   "cell_type": "code",
   "execution_count": 27,
   "id": "6a1a14a8",
   "metadata": {},
   "outputs": [],
   "source": [
    "# threshold = -1.833\n",
    "# Since test-statistics < threshold\n",
    "# We can reject null hypothesis, the proportion of asian victims increase after covid-19"
   ]
  },
  {
   "cell_type": "code",
   "execution_count": null,
   "id": "3047a66f",
   "metadata": {},
   "outputs": [],
   "source": []
  }
 ],
 "metadata": {
  "kernelspec": {
   "display_name": "Python 3",
   "language": "python",
   "name": "python3"
  },
  "language_info": {
   "codemirror_mode": {
    "name": "ipython",
    "version": 3
   },
   "file_extension": ".py",
   "mimetype": "text/x-python",
   "name": "python",
   "nbconvert_exporter": "python",
   "pygments_lexer": "ipython3",
   "version": "3.8.8"
  },
  "toc": {
   "base_numbering": 1,
   "nav_menu": {},
   "number_sections": true,
   "sideBar": true,
   "skip_h1_title": false,
   "title_cell": "Table of Contents",
   "title_sidebar": "Contents",
   "toc_cell": true,
   "toc_position": {},
   "toc_section_display": true,
   "toc_window_display": false
  }
 },
 "nbformat": 4,
 "nbformat_minor": 5
}
